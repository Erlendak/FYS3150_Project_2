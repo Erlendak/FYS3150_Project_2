{
 "cells": [
  {
   "cell_type": "markdown",
   "metadata": {},
   "source": [
    "$Kode \\space : \\space C++\\space \\space \\space , \\space \\space \\space  Dato \\space : \\space 30.09.2019 \\space \\space \\space , \\space\\space\\space Emne \\space : \\space Fys3150\\space \\space \\space , \\space \\space \\space Navn \\space : \\space Roshan \\space Azam \\space , \\space Erlend \\space Akre $"
   ]
  },
  {
   "cell_type": "markdown",
   "metadata": {},
   "source": [
    "## Egenverdi problemer, moderling av en bøyd bjelke.  Elektroner i en tredimensjonal harmonsisk oscillator brønn. "
   ]
  },
  {
   "cell_type": "markdown",
   "metadata": {},
   "source": [
    "### Abstrakt"
   ]
  },
  {
   "cell_type": "markdown",
   "metadata": {},
   "source": [
    "I dette projektet har vi tatt for oss 3 fysiske problemer, vi ser på en oscillerende bjelke, potensialet fra et elektron og potensialet fra to elektroner. Problemene er relativt like, og vi løser de ved å sette diffrensialligningene på matrise form. Når diffensiallginingene er på matrise form finner vi løsningen ved å finne egenverdiene til matrisen. \n",
    "\n",
    "\n",
    "For å løse egenveridene til matrisene har vi utviklet en egen kode som tar i bruk Jacobi rotasjon for å tilnærme seg egenverdiene til matisen. Videre sammenligner vi de numeriske og analytiske resultatene, effektiviteten til algoritmen sammenlignet med standard algoritmer. \n",
    "\n",
    "\n",
    "Sist men ikke minst har vi laget et GitHub reposetory som inneholder kildekoden vi har utviklet i dette projektet, i tillegg til et par håndplukkede resultater som skal forsøke å vise at koden virker som den skal. GitHub reposetoryet skal også vise en ganske detaljert logg av utviklingen av koden. GitHub reposetory finner du her ;\n",
    "\n",
    "[https://github.com/Erlendak/FYS3150_Project_2](https://github.com/Erlendak/FYS3150_Project_2)\n",
    "\n",
    "Hvis du ønsker å clone reposetory kan du bruke denne leken; \n",
    "\n",
    "[https://github.com/Erlendak/FYS3150_Project_2.git](https://github.com/Erlendak/FYS3150_Project_2.git)\n"
   ]
  },
  {
   "cell_type": "markdown",
   "metadata": {},
   "source": [
    "### Introduksjon"
   ]
  },
  {
   "cell_type": "markdown",
   "metadata": {},
   "source": [
    "Hensikten med dette projektet er å utvikle en egen kode basert på en kjent algoritme, få en god forståelse av hvordan algoritmen virker, og kunne anvise algoritmen på praktiske problemer.  vår egen kode som vi kan bruke for å løse fysiske problemer. Derfor tar vi for oss 3 separate fyske problemer som løses ved hjelp av koden vi har utviklet. Sammen med unittestene viser dette oss at koden virker som den skal, og hvordan koden anvendes på praktiske problemer. \n",
    "\n",
    "Først tar vi for oss en bjelke hvor begge ender er festet til ett fast og solid punkt hver, rent praktisk kan dette være en  vegg. Deretter påfører vi bjelken ett arbeid slik at bjelken blir bøyd, vi antar at bjelken er absolut elastikk og dermed vil oppføre seg som en oscillernede fjær. Under modeleringene ser vi bort fra friksjon.\n",
    "\n",
    "Det viser seg at metoden er ganske sterk siden, vi kan bruke metoden vår til å løse kvantemekaniske problemer, vi begynner med å se på et elektron som beveger seg i et firepolet system. Systemet elektronet beveger støter fra seg elektronet og presser elektronet inn mot midten, dette gjør at systemet blir en ocillator for den elektrisk potensielle energien og den kinetiske energien til elektronet. \n",
    "\n",
    "Vi tar problemet med elektronet videre i det siste problemet vi ser på, nå ser vi ikke bare på ett elektron, men 2 elektroner i det samme systemet. Ved å ha flere elektroner gjør at elektronene vil påvike hverandre og ikke bare av det statiske elektriske feltet til systemet. Vi sammenligner også resultatene fra systemet med ett elektron, for å finne ut hvordan problemet utvikler seg for 2 elektroner i forhold til 1. \n",
    "\n",
    "Dette projektet viser oss at det er en enorm fordel av å skalere ligningene, dette gir oss muligheten til å holde orden på enhetene. Det er også nødvendig for å konstruere én generell diffensialligning som vi kan bruke til å sette opp Toeplitz tridiagonale matrise, som vi videre bruker for å løse ligningene.\n",
    "\n",
    "Egenverdier ; hva er egenverider og hvorfor ønsker vi å finne de, hvordan påvirker det problemet. \n",
    "\n",
    "Jacobi rotasjon er ett av måtene vi kan diagonalisere en matrise på, og er en sikker metode du kan bruke \n",
    "på ekte symmetriske matriser. Siden vi ender opp med en diagonal matrise etter at vi har\n",
    "brukt Jacobi rotation er det bare å lese av egenverdiene på diagonalen. Vi vet at egenverdiene\n",
    "blir bevart når vi bruker Jacobi, så egenverdiene på diagonalen vil være de samme\n",
    "som de i den initielle matrisen vår. \n",
    "\n",
    "Metoden går ut på at vi roterer matrisen flere ganger ved hjelp av en sekvens av ortogonale similære transformasjoner. Hver rotasjon burde fjerne ett ikke-diagonalt element fra matrisen, og selv om dette elementet ikke blir 0, \n",
    "så blir det mindre og mindre, slik at vi kan sette en viss toleranse for når vi ikke teller med \n",
    "elementet lenger. En negativ side ved Jacobi rotasjon er at for større matriser kan det ta veldig\n",
    "lang tid å kjøre gjennom."
   ]
  },
  {
   "cell_type": "markdown",
   "metadata": {},
   "source": [
    "### Formalism"
   ]
  },
  {
   "cell_type": "markdown",
   "metadata": {},
   "source": [
    " Ved hjelp av hooks lov uttrykker vi kraften på bjelken, og med Newtons andre lov lager vi dermed et uttrykk for hvordan bjelken vil bevege seg ; \n",
    "\n",
    "$$\\gamma \\frac{d^2 u(x)}{dx^2} = -F u(x), $$\n",
    "\n",
    "Vi definer origo til kordinatsystemet til å være i det ene festet til bjelken, så setter vi x-aksen til å bevege seg langs med bjelken. Bjelken har lengden L så er systemet definert for x $\\in$ $[0,L]$. Siden bjelken er festet i begge endene så vil altid utslaget i endene alltid være null, dette gir oss Dirichlet grense bettingelsene u(0)=u(L) = 0 blir påvirket av kraften F i punktene x = (0 , L).\n",
    "\n",
    "\n",
    "\n",
    "For å gjøre simuleringene introduserer vi dimmensjonsløse variabler ;\n",
    "\n",
    "\n",
    "$$ \\frac{d^2 u(\\rho)}{d\\rho^2} = -\\frac{FL^2}{\\gamma} u(\\rho),\\hspace{3cm} \\rho = \\frac{x}{L}, \\hspace{2cm} \\rho \\in [0,1] $$\n",
    "\n",
    "$\\gamma$ representerer bjelkens matrialske egenskaper, altså hvor motstandsdyktig bjelken er til å unga bøye seg. F er kraften som bjelken blir påvirket med i festepunktene x = (0,L). Når vi skal se på spesefikke tilfeller så vil $\\gamma$, F og L som regel være kjent, eventuelt kan vi finne en av dem ved å se på hvordan bjelken oppfører seg. Vi ser at $\\frac{FL^2}{\\gamma}$ er avgjørende for hvordan systemet vil bevege seg, dette gjør at $\\frac{FL^2}{\\gamma} fungerer som en egenverdi for diffrensialligningen, dette gir oss; \n",
    "\n",
    "\n",
    "$$\\frac{d^2 u(\\rho)}{d\\rho^2} = -\\frac{FL^2}{\\gamma} u(\\rho) = -\\lambda u(\\rho)$$\n",
    "\n",
    "Hvis vi diskretiserer diffrensial ligninen får vi ; \n",
    "\n",
    "$$u''=\\frac{u(\\rho+h) -2u(\\rho) +u(\\rho-h)}{h^2} +O(h^2),$$\n",
    "\n"
   ]
  },
  {
   "cell_type": "markdown",
   "metadata": {},
   "source": [
    "Vi kaller antall steg i den numeriske løsningen N og definerer dermed stegstørrelsen;\n",
    "\n",
    "$$h = \\frac{\\rho_{max}-\\rho_{min}}{N}$$\n",
    "\n",
    "på grunn av defninsjonen av $\\rho$ så vil $\\rho_{max} $ være 1 og $\\rho_{min}$ være 0. \n",
    "dette betyr at at $\\rho$ vil være definert som ; \n",
    " \n",
    "$$\\rho(i) = \\rho_0 + ih \\hspace{2cm} i=1,2,\\dots , N. $$\n",
    "\n",
    "\n",
    "Dette gir oss den diskretiserte diffrensialligningen ; \n",
    "\n",
    "\n",
    "$$ -\\frac{u(\\rho_i+h) -2u(\\rho_i) +u(\\rho_i-h)}{h^2}  = \\lambda u(\\rho_i),\\hspace{1cm} \\implies \\hspace{3cm}-\\frac{u_{i+1} -2u_i +u_{i-1} }{h^2}  = \\lambda u_i$$\n",
    "\n",
    "\n",
    "Egenverdiene har den analytiske løsningen gitt ved ; \n",
    "\n",
    "$$ \\lambda_j = d+2a\\cos{(\\frac{j\\pi}{N+1})} \\hspace{0.1cm} j=1,2,\\dots N $$\n",
    "\n",
    "\n",
    "Nå kan vi skrive diffrensialligningene på matriseform ; \n",
    "\n",
    "$$ \\begin{bmatrix} d& a & 0   & 0    & \\dots  &0     & 0 \\\\\n",
    "                                a & d & a & 0    & \\dots  &0     &0 \\\\\n",
    "                                0   & a & d & a  &0       &\\dots & 0\\\\\n",
    "                                \\dots  & \\dots & \\dots & \\dots  &\\dots      &\\dots & \\dots\\\\\n",
    "                                0   & \\dots & \\dots & \\dots  &a  &d & a\\\\\n",
    "                                0   & \\dots & \\dots & \\dots  &\\dots       &a & d\\end{bmatrix} \n",
    "                                 \\begin{bmatrix} u_1 \\\\ u_2 \\\\ u_3 \\\\ \\dots \\\\ u_{N-2} \\\\ u_{N-1}\\end{bmatrix} = \\lambda \\begin{bmatrix} u_1 \\\\ u_2 \\\\ u_3 \\\\ \\dots \\\\ u_{N-2} \\\\ u_{N-1}\\end{bmatrix}$$\n",
    "\n",
    "Hvis vi setter inn for diffrensialligningen vil dette blir en matrise vi kan løse ved hjelp av jacobi rotasjon som vi tar opp litt senere i rapporten ;\n",
    "\n",
    "\n",
    "$$ \\underline{\\underline{ \\begin{bmatrix}\n",
    "\\frac{2}{h^2}  & -\\frac{1}{h^2} & 0              & 0              & \\dots          & 0             & 0 \\\\\n",
    "-\\frac{1}{h^2} & \\frac{2}{h^2}  & -\\frac{1}{h^2} & 0              & \\dots          & 0             & 0 \\\\\n",
    "0              & a              & \\frac{2}{h^2}  & -\\frac{1}{h^2} & 0              & \\dots         & 0 \\\\\n",
    "\\vdots          & \\ddots          & \\ddots          & \\ddots          & \\ddots          & \\ddots         & \\vdots \\\\\n",
    "0              & \\ddots          & \\ddots          & \\ddots          & -\\frac{1}{h^2} & \\frac{2}{h^2} & -\\frac{1}{h^2} \\\\\n",
    "0              & \\dots          & \\dots          & \\dots          & \\dots & -\\frac{1}{h^2} & \\frac{2}{h^2}\\end{bmatrix}  \\begin{bmatrix} \n",
    "u_1 \\\\\n",
    "u_2 \\\\ \n",
    "u_3 \\\\\n",
    "\\vdots \\\\\n",
    "\\vdots \\\\\n",
    "u_{N-2} \\\\\n",
    "u_{N-1} \\end{bmatrix} = \\lambda \\begin{bmatrix}\n",
    "u_1 \\\\\n",
    "u_2 \\\\\n",
    "u_3 \\\\\n",
    "\\vdots \\\\\n",
    "\\vdots \\\\\n",
    "u_{N-2} \\\\\n",
    "u_{N-1}\\\\\n",
    "\\end{bmatrix} }}$$\n",
    "\n"
   ]
  },
  {
   "cell_type": "code",
   "execution_count": null,
   "metadata": {},
   "outputs": [],
   "source": []
  },
  {
   "cell_type": "markdown",
   "metadata": {},
   "source": [
    "Videre bruker vi Jacobi rotasjon for å løse matrisen. \n",
    "\n",
    "Når vi skal se på elektronet som beveger seg i et i fanget system, gjør vi følgene antagelser. Elektronet beveger seg i et statsik felt som frastøter seg elektronet, slik at elektronet blir presset mot et nullpunkt der summen av feltene er null. Vi antar at feltet har en form for kulesymmetri, dét medfører at vi kan skrive posisjonen til elektronet ved hjelp av sfæriske koordinater der potensialet kun er avhengige av radisuen fra nullpunktet til elektronet. Da kan vi bruke Schroedingers ligning til å beskrive den totale energien i systemet, uttrykt ved hjelp av summen av den kinetiske enerigen og det elektriske potensialet V(r) til systemet ;\n"
   ]
  },
  {
   "cell_type": "markdown",
   "metadata": {},
   "source": [
    "$$ E R(r) = -\\frac{\\hbar^2}{2 m} \\left ( \\frac{1}{r^2} \\frac{d}{dr} r^2 \\frac{d}{dr} - \\frac{l (l + 1)}{r^2} \\right )R(r) + V(r) R(r) $$\n"
   ]
  },
  {
   "cell_type": "markdown",
   "metadata": {},
   "source": [
    "Pontesialet kan uttrykkes ved hjelp av $\\frac{1}{2}kr^2$ der k er uttrykkt ved hjelp av $k = m \\omega^2$, hvor $\\omega$ er frekvens systmet ocillerer med. Dette gjør vi kan skrive energien av systmet uttrykt ved hjelp av $\\omega$ ; \n",
    "\n",
    "$$\n",
    "E_{nl}=  \\hbar \\omega \\left(2n+l+\\frac{3}{2}\\right),\\hspace{3cm} n=0,1,2,\\dots, \\hspace{3cm} l=0,1,2,\\dots $$"
   ]
  },
  {
   "cell_type": "markdown",
   "metadata": {},
   "source": [
    "Hvor kvante tallet l referer til elektronets orbitale bevegelsesmengde. Siden vi holder oss til sfæriske kordianter så skriver vi R som $\\frac{1}{r}u(r)$ dette gir oss; \n",
    "\n",
    "$$  -\\frac{\\hbar^2}{2 m} \\frac{d^2}{dr^2} u(r) + \\left ( V(r) + \\frac{l (l + 1)}{r^2}\\frac{\\hbar^2}{2 m} \\right ) u(r)  = E u(r) $$\n",
    "\n",
    "så definerer vi Dirichlet grensene u(0)=$u(\\infty)$ = 0, og så skalerer vi ligningen med hensyn på r. \n",
    "$\\rho = \\frac{1}{\\alpha}r$ hvor $\\alpha$ er en konstant lengde, dette gir oss uttrykket ;\n",
    "\n",
    "$$ -\\frac{\\hbar^2}{2 m \\alpha^2} \\frac{d^2}{d\\rho^2} u(\\rho) + \\left ( V(\\rho) + \\frac{l (l + 1)}{\\rho^2} \\frac{\\hbar^2}{2 m\\alpha^2} \\right ) u(\\rho)  = E u(\\rho) $$"
   ]
  },
  {
   "cell_type": "markdown",
   "metadata": {},
   "source": [
    "I dette projektet holder vi oss til at det kvante mekaniske orbitale bevegelsesmengden er 0, og for potensialet setter vi inn $V(\\rho) = (1/2) k \\alpha^2\\rho^2$. Dette gir oss uttrykket ;\n",
    "\n",
    "$$-\\frac{\\hbar^2}{2 m \\alpha^2} \\frac{d^2}{d\\rho^2} u(\\rho) + \\frac{k}{2} \\alpha^2\\rho^2u(\\rho)  = E u(\\rho)\\hspace{3cm} \\bigg| \\space \\cdot \\space \\frac{2m\\alpha^2}{\\hbar^2} $$ \n",
    "\n",
    "$$ -\\frac{d^2}{d\\rho^2} u(\\rho) + \\frac{mk}{\\hbar^2} \\alpha^4\\rho^2u(\\rho)  = \\frac{2m\\alpha^2}{\\hbar^2}E u(\\rho) $$"
   ]
  },
  {
   "cell_type": "markdown",
   "metadata": {},
   "source": [
    "Så setter vi konstanten $\\alpha$ til ; \n",
    "\n",
    "$$ \\frac{mk}{\\hbar^2} \\alpha^4 = 1, \\hspace{3cm} \\implies \\hspace{3cm} \\alpha = \\left(\\frac{\\hbar^2}{mk}\\right)^{1/4}$$\n",
    "\n",
    "Dette gir oss ; \n",
    "\n",
    "$$ -\\frac{d^2}{d\\rho^2} u(\\rho) +  \\rho^2u(\\rho)  = \\frac{2m\\alpha^2}{\\hbar^2}E u(\\rho) $$\n",
    "\n",
    "Her får vi at potensialet er avhengige av systemets konstanter E, m, $\\hbar$ og $\\alpha$, Dette kan da også uttrykkes som et egenverdiproblem hvor egenverdiene er gitt ved ;\n",
    "\n",
    "$$ \\lambda = \\frac{2m\\alpha^2}{\\hbar^2}E $$\n",
    "\n",
    "Dette gir oss diffrensialligningen ;\n",
    "\n",
    "$$-\\frac{d^2}{d\\rho^2} u(\\rho) + \\rho^2u(\\rho)  = \\lambda u(\\rho) $$\n",
    "\n",
    "Så utfører vi en diskretisjon for for diffrensialigningen ;\n",
    "\n",
    "$$ -\\frac{u(\\rho_i+h) -2u(\\rho_i) +u(\\rho_i-h)}{h^2}+\\rho_i^2u(\\rho_i)  = \\lambda u(\\rho_i), \\hspace{2cm} V_i = \\rho^2_i $$\n",
    "\n",
    "$$-\\frac{u_{i+1} -2u_i +u_{i-1}}{h^2}+\\rho_i^2u_i=-\\frac{u_{i+1} -2u_i +u_{i-1} }{h^2}+V_iu_i  = \\lambda u_i $$"
   ]
  },
  {
   "cell_type": "markdown",
   "metadata": {},
   "source": [
    "Hvor $\\rho$ går fra 0 og går mot $\\infty$, men under diskretisjonen tester vi for forskjellige størrelser av $\\rho$ for å tilnærme oss $\\infty$, Dette gir oss stegstørrelsen ; \n",
    "$$ h = \\frac{\\rho_N-\\rho_0 }{N}, \\hspace{3cm} \\rho_0 = 0, \\hspace{1cm}\\rho_n = x, \\hspace{3cm} \\rho_i= \\rho_0 + ih \\hspace{1cm} i=1,2,\\dots , N. $$"
   ]
  },
  {
   "cell_type": "markdown",
   "metadata": {},
   "source": [
    "Dette gir oss diagonalelementet $d_i=\\frac{2}{h^2}+V_i$. For elementene som er på tridiagonalen men ikke diagonalen blir uttryket ved $e_i=-\\frac{1}{h^2}$. Dette gjør at vi kan skrive diffrensialligninen på matrise formen ;\n",
    "\n",
    "$$\\begin{bmatrix}\n",
    "d_1 & e_1 & 0   & 0    & \\dots  &0     & 0 \\\\\n",
    "e_1 & d_2 & e_2 & 0    & \\dots  &0     &0 \\\\\n",
    "0   & e_2 & d_3 & e_3  &0       &\\dots & 0\\\\\n",
    "\\dots  & \\dots & \\dots & \\dots  &\\dots      &\\dots & \\dots\\\\\n",
    "0   & \\dots & \\dots & \\dots  &\\dots  e_{N-3}     &d_{N-2} & e_{N-2}\\\\\n",
    "\\end{bmatrix} \\begin{bmatrix}\n",
    "u_{1} \\\\\n",
    "u_{2} \\\\\n",
    "\\dots\\\\\n",
    "\\dots\\\\\n",
    "\\dots\\\\\n",
    "u_{N-1}\n",
    "\\end{bmatrix}=\\lambda \\begin{bmatrix}\n",
    "u_{1} \\\\\n",
    "u_{2} \\\\\n",
    "\\dots\\\\\n",
    "\\dots\\\\ \n",
    "\\dots\\\\\n",
    "u_{N-1}\n",
    "\\end{bmatrix}$$"
   ]
  },
  {
   "cell_type": "markdown",
   "metadata": {},
   "source": [
    "Vi kan finne egenverdiene analytisk \n",
    "$$ d_iu_i+e_{i}u_{i-1}+e_{i}u_{i+1}  = \\lambda u_i, $$"
   ]
  },
  {
   "cell_type": "markdown",
   "metadata": {},
   "source": [
    "Hvis vi nå ser på det siste problemet, hvor vi nå ser på 2 elektroner som er fanget i et sfærisk avstøtende felt hvor vi har et null punkt i systemets sentrum som vi definerer som origo. Akkurat som i forrige problem. Vi starter med å se på ligninen for et elektron ; \n",
    "\n",
    "$$ -\\frac{\\hbar^2}{2 m} \\frac{d^2}{dr^2} u(r) + \\frac{1}{2}k r^2u(r)  = E^{(1)} u(r),$$\n",
    "\n",
    "Her uttrykker $ E^{(1)}$ energien for kun et elektron. Hvis vi nå ser på Schroedingers ligning for 2 elektroner, men uten ser bort ifra frastøtende interaksjoner mellom dem. Vi uttrykker beveglesen til elektronene samlet $u(r_1,r_2)$ der $r_1$ er avstanden fra nullpunktet og til elektron 1. og r_2 beskriver avstanden til elektron 2. Energien $E^{(2)}$ beskriver energien til begge elektronene, Dette gir oss ;\n",
    "\n",
    "$$ \\left(  -\\frac{\\hbar^2}{2 m} \\frac{d^2}{dr_1^2} -\\frac{\\hbar^2}{2 m} \\frac{d^2}{dr_2^2}+ \\frac{1}{2}k r_1^2+ \\frac{1}{2}k r_2^2\\right)u(r_1,r_2)  = E^{(2)} u(r_1,r_2) $$\n",
    "\n",
    "Videre uttrykker vi forskjellen mellom avstanden til elektronene som $r = r_1 - r_2$ og massesenteret til elektronene ved $R = \\frac{r_1 + r_2}{2}$. Dette kan vi bruke som kordinater for systemet vårt gitt ved  ; \n",
    "\n",
    "$$ \\left(  -\\frac{\\hbar^2}{m} \\frac{d^2}{dr^2} -\\frac{\\hbar^2}{4 m} \\frac{d^2}{dR^2}+ \\frac{1}{4} k r^2+  kR^2\\right)u(r,R)  = E^{(2)} u(r,R) $$\n",
    "\n",
    "Så kan vi bruke en tilnærming for u(r,R) og $E^{(2)}$ for å skille avhengigheten av r og R, dette gir oss ; \n",
    "\n",
    "$$ u(r,R) = \\psi(r)\\phi(R), \\hspace{3cm}  E^{(2)}= E_r + E_R.$$\n",
    "\n",
    "Siden elektronene beveger seg i samme system er det nødvendig at vi beskriver de frastøtende interaksjonene mellom dem, dette har vi uttrykket ved hjelp av ;\n",
    "\n",
    "$$V(r_1,r_2) = \\frac{\\beta e^2}{|\\mathbf{r}_1-\\mathbf{r}_2|} =\\frac{\\beta e^2}{r}, \\hspace{2cm} \\beta e^2=1.44 eVnm.$$\n",
    "\n",
    "Dette gir oss ; \n",
    "\n",
    "$$ \\left(  -\\frac{\\hbar^2}{m} \\frac{d^2}{dr^2}+ \\frac{1}{4}k r^2+\\frac{\\beta e^2}{r}\\right)\\psi(r)  = E_r \\psi(r)$$\n",
    "\n",
    "Dette kjenner vi igjen fra tidligere, så igjen skalerer vi ligningene med $\\rho$ slik at vi får dimmensjonsløse variabler; \n",
    "\n",
    "$$-\\frac{d^2}{d\\rho^2} \\psi(\\rho) + \\frac{1}{4}\\frac{mk}{\\hbar^2} \\alpha^4\\rho^2\\psi(\\rho)+\\frac{m\\alpha \\beta e^2}{\\rho\\hbar^2}\\psi(\\rho)  = \\frac{m\\alpha^2}{\\hbar^2}E_r \\psi(\\rho), \\hspace{2cm} \\rho = \\frac{r}{\\alpha} $$"
   ]
  },
  {
   "cell_type": "markdown",
   "metadata": {},
   "source": [
    "For å gjøre uttrykket litt lettere å behandle definerer vi frekvensen $\\omega_r $ som ; \n",
    "$$\\omega_r^2=\\frac{1}{4}\\frac{mk}{\\hbar^2} \\alpha^4$$\n",
    "også definerer vi konstanten $\\alpha$ som ;\n",
    "$$ \\alpha = \\frac{\\hbar^2}{m\\beta e^2} \\hspace{3cm} \\implies \\hspace{3cm} \\frac{m\\alpha \\beta e^2}{\\hbar^2}=1 $$\n",
    "Dette betyr at vi kan uttrykke Schroedingers ligning slik ;\n",
    "\n",
    "$$ -\\frac{d^2}{d\\rho^2} \\psi(\\rho) + \\omega_r^2\\rho^2\\psi(\\rho) +\\frac{1}{\\rho} = \\frac{m\\alpha^2}{\\hbar^2}E \\psi(\\rho) $$\n",
    "\n",
    "Her ser vi at vi kan bruke $\\frac{m\\alpha^2}{\\hbar^2}E$ som en egenverdiene for systemet, dette vil da gi oss ; \n",
    "\n",
    "$$ -\\frac{d^2}{d\\rho^2} \\psi(\\rho) + \\omega_r^2\\rho^2\\psi(\\rho) +\\frac{1}{\\rho} = \\lambda \\psi(\\rho) $$\n",
    "\n"
   ]
  },
  {
   "cell_type": "markdown",
   "metadata": {},
   "source": [
    "#### Resultat"
   ]
  },
  {
   "cell_type": "code",
   "execution_count": null,
   "metadata": {},
   "outputs": [],
   "source": []
  },
  {
   "cell_type": "code",
   "execution_count": 15,
   "metadata": {},
   "outputs": [
    {
     "name": "stdout",
     "output_type": "stream",
     "text": [
      "[  8.64662382  34.25421037  75.83867446 131.80194847 199.99339514\n",
      " 277.79245544 362.20935509 450.         537.79064491 622.20754456\n",
      " 700.00660486 768.19805153 824.16132554 865.74578963 891.35337618]\n"
     ]
    }
   ],
   "source": [
    "import numpy as np\n",
    "\n",
    "N = 15\n",
    "pn = 1\n",
    "p0 = 0\n",
    "h = (pn-p0)/(N)\n",
    "d = 2 / (h**2)\n",
    "a = - 1 / (h**2)\n",
    "j = np.linspace(1,N, N,)\n",
    "#print(j)\n",
    "egenverdi_ary = (d + 2 * a * np.cos((j*np.pi)/(N+1))) \n",
    "print(egenverdi_ary)"
   ]
  },
  {
   "cell_type": "markdown",
   "metadata": {},
   "source": []
  }
 ],
 "metadata": {
  "kernelspec": {
   "display_name": "Python 3",
   "language": "python",
   "name": "python3"
  },
  "language_info": {
   "codemirror_mode": {
    "name": "ipython",
    "version": 3
   },
   "file_extension": ".py",
   "mimetype": "text/x-python",
   "name": "python",
   "nbconvert_exporter": "python",
   "pygments_lexer": "ipython3",
   "version": "3.6.9"
  }
 },
 "nbformat": 4,
 "nbformat_minor": 2
}
